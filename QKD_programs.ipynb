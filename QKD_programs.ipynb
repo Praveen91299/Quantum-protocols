{
 "cells": [
  {
   "cell_type": "markdown",
   "metadata": {},
   "source": [
    "# QKD protocols:\n",
    "\n",
    "Change as required and create pull requests.  \n",
    "Here's what we need to do:  \n",
    "Basics:  \n",
    "1) Ideal QKD Protocol, including verification steps.  \n",
    "2) Introduce practical classical notions such as error correction and hashes, etc as required.  \n",
    "3) Analysis of performance.  \n",
    "  \n",
    "Later on:  \n",
    "1) Proper network archeticture, establishing entanglement between nodes by swapping and distillation.\n",
    "\n",
    "Add stuff to this list and for each thing/module, open an issue. Reference the issue when you commit and make a pull request."
   ]
  },
  {
   "cell_type": "markdown",
   "metadata": {},
   "source": [
    "## Getting started  \n",
    "Lets initialize required packages and modules"
   ]
  },
  {
   "cell_type": "code",
   "execution_count": 4,
   "metadata": {},
   "outputs": [],
   "source": [
    "# Initializations\n",
    "import numpy as np\n",
    "from qiskit import ClassicalRegister, QuantumRegister, QuantumCircuit, execute, Aer\n",
    "from qiskit.tools.visualization import circuit_drawer, plot_histogram"
   ]
  },
  {
   "cell_type": "markdown",
   "metadata": {},
   "source": [
    "## Basic Quantum Key Distribution protocol\n",
    "Bleh"
   ]
  },
  {
   "cell_type": "code",
   "execution_count": null,
   "metadata": {},
   "outputs": [],
   "source": []
  }
 ],
 "metadata": {
  "kernelspec": {
   "display_name": "Python 3",
   "language": "python",
   "name": "python3"
  },
  "language_info": {
   "codemirror_mode": {
    "name": "ipython",
    "version": 3
   },
   "file_extension": ".py",
   "mimetype": "text/x-python",
   "name": "python",
   "nbconvert_exporter": "python",
   "pygments_lexer": "ipython3",
   "version": "3.7.6"
  }
 },
 "nbformat": 4,
 "nbformat_minor": 4
}
