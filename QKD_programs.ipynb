{
 "cells": [
  {
   "cell_type": "markdown",
   "metadata": {},
   "source": [
    "# QKD protocols:\n",
    "\n",
    "Change as required and create pull requests.  \n",
    "Here's what we need to do:  \n",
    "Basics:  \n",
    "1) Ideal QKD Protocol, including verification steps.  \n",
    "2) Introduce practical classical notions such as error correction and hashes, etc as required.  \n",
    "3) Analysis of performance.  \n",
    "  \n",
    "Later on:  \n",
    "1) Proper network archeticture, establishing entanglement between nodes by swapping and distillation.\n",
    "\n",
    "Add stuff to this list and for each thing/module, open an issue. Reference the issue when you commit and make a pull request."
   ]
  },
  {
   "cell_type": "markdown",
   "metadata": {},
   "source": [
    "## Getting started  \n",
    "Lets initialize required packages and modules. Make sure you have installed Python3, qiskit."
   ]
  },
  {
   "cell_type": "code",
   "execution_count": 1,
   "metadata": {},
   "outputs": [],
   "source": [
    "# Initializations\n",
    "import numpy as np\n",
    "import array\n",
    "from qiskit import ClassicalRegister, QuantumRegister, QuantumCircuit, execute, Aer\n",
    "from qiskit.tools.visualization import circuit_drawer, plot_histogram"
   ]
  },
  {
   "cell_type": "markdown",
   "metadata": {},
   "source": [
    "# Problem statement\n",
    "\n",
    "Two parties, say Alice (A) and Bob (B) wish to communicate securely between themselves, while a third agent, Eve (E) wishes to evesdrop on this communication and potentially obtain information. Apart from these active agents, the communication 'channel' is suseptible to errors and loses caused by various reasons.  \n",
    "The following document and codes will progress through these, in increasing order of complexity of the problem in hand."
   ]
  },
  {
   "cell_type": "code",
   "execution_count": 2,
   "metadata": {},
   "outputs": [],
   "source": [
    "class person:\n",
    "    def __init__(self, name):\n",
    "        self.name = name\n",
    "        \n",
    "class channel:\n",
    "    def __init__(self, name):\n",
    "        self.name = name"
   ]
  },
  {
   "cell_type": "markdown",
   "metadata": {},
   "source": [
    "## Quantum Key Distribution\n",
    "Classically, the most (universally) secure encryption scheme is the one time pad. This involves the two parties Ex-or a random (secret) key string to their messages before transmitting. Since the key is random, the evesdropper Eve has no information about the input without the knowledge of the key.  For this task to work though, the sender and receiver had to exchange the key at some prior point of time. This may not be secure and may lead to leaks of key due to various human factors.  \n",
    "Fortunately, quantum mechanics provides a solution to this connundrum and allows Alice and Bob to exchange keys in a secure and simple manner. The following are few proposed methods and the code to simulate the same."
   ]
  },
  {
   "cell_type": "markdown",
   "metadata": {},
   "source": [
    "### BB84\n",
    "Suppose Alice and Bob wish to establish a key between themselves, Alice begins with initializing two random N length bit strings $a_1[1], a_1[2] \\dots a_1[N]$  and $b_1[1], b_1[2] \\dots b_1[N]$ between themselves. One can locally generate purely random strings by performing measurements on qubits. She then prepares a string of qubit states $q[1], q[2] \\dots q[N]$ with the following rule:  \n",
    "\n",
    "$q[i] = |0\\rangle$ when $a_1[i] = 0$ and $b_1[i] = 0$  \n",
    "$q[i] = |1\\rangle$ when $a_1[i] = 1$ and $b_1[i] = 0$  \n",
    "$q[i] = |+\\rangle$ when $a_1[i] = 0$ and $b_1[i] = 1$  \n",
    "$q[i] = |-\\rangle$ when $a_1[i] = 1$ and $b_1[i] = 1$  \n",
    "\n",
    "You can notice that $a_1[]$ determines the eigenstate and $b_1[]$ determine the orientation of the same.  "
   ]
  },
  {
   "cell_type": "code",
   "execution_count": 3,
   "metadata": {},
   "outputs": [],
   "source": [
    "from qiskit import qasm\n",
    "class person_BB84(person):\n",
    "    def __init__(self, name, N):\n",
    "        super().__init__(name)\n",
    "        self.length = N\n",
    "        self.a = [] #key string\n",
    "        self.b = [] #own basis\n",
    "        self.c = [] #to store received basis\n",
    "        self.d = [] #to store verification key\n",
    "        self.key = []\n",
    "        self.ver = []\n",
    "        self.flag = 0\n",
    "        self.q = QuantumCircuit(N, N)\n",
    "        \n",
    "    def initialize_random(self):\n",
    "        ran = QuantumCircuit(1, 1)\n",
    "        ran.h(0)\n",
    "        ran.measure([0], [0])\n",
    "        backend = Aer.get_backend('qasm_simulator')\n",
    "        job_1 = execute(ran, backend, shots = self.length, memory = True)\n",
    "        job_2 = execute(ran, backend, shots = self.length, memory = True)\n",
    "        result_1 = job_1.result()\n",
    "        result_2 = job_2.result()\n",
    "        mem_1 = result_1.get_memory()\n",
    "        mem_2 = result_2.get_memory()\n",
    "        for x in range(self.length):\n",
    "            self.a.append(int(mem_1[x],2))\n",
    "            self.b.append(int(mem_2[x],2))\n",
    "    \n",
    "    def initialize_qubits(self): #to initialize qubits according to a, b\n",
    "        for l in range(self.length):\n",
    "            if self.a[l] == 1:\n",
    "                self.q.x(l)\n",
    "            if self.b[l] == 1:\n",
    "                self.q.h(l)\n",
    "                \n",
    "    def measure_q(self):\n",
    "        for l in range(self.length):\n",
    "            if self.b[l] == 1:\n",
    "                self.q.h(l)\n",
    "            self.q.measure([l],[l])\n",
    "        backend = Aer.get_backend('qasm_simulator')\n",
    "        job_m = execute(self.q, backend, shots = 1, memory = True)\n",
    "        result_m = job_m.result()\n",
    "        mem = result_m.get_memory()\n",
    "\n",
    "        self.a = []\n",
    "        for l in range(self.length):\n",
    "            self.a.append(int(mem[0][-l-1], 2)) # reversing order of bits and appending\n",
    "        \n",
    "    def compare_basis(self):\n",
    "        temp = []\n",
    "        for x in range(self.length):\n",
    "            if self.b[x] == self.c[x]:\n",
    "                temp.append(self.a[x])\n",
    "        self.a = temp\n",
    "        del temp\n",
    "        \n",
    "        self.length = len(self.a)\n",
    "        \n",
    "    def split_key(self, locations):\n",
    "        self.key = []\n",
    "        self.ver = []\n",
    "        for x in range(len(locations)):\n",
    "            if locations[x] == 0:\n",
    "                self.key.append(self.a[x])\n",
    "            else:\n",
    "                self.ver.append(self.a[x])\n",
    "                \n",
    "    def verify_key(self):\n",
    "        total = len(self.ver)\n",
    "        match = 0\n",
    "        for x in range(total):\n",
    "            if self.ver[x] == self.d[x]:\n",
    "                match+=1\n",
    "        accuracy = (match*100)/total\n",
    "        print(\"Accuracy =\", accuracy)\n",
    "        if accuracy > 0.95:\n",
    "            print(self.name, \" is good to go.\")\n",
    "            self.flag = 1\n",
    "        else:\n",
    "            print(self.name, \" is facing issues.\")\n",
    "                    \n",
    "\n",
    "Alice = person_BB84('Alice', 100)\n",
    "Bob = person_BB84('Bob', 100)\n",
    "\n",
    "Alice.initialize_random()\n",
    "Bob.initialize_random()\n",
    "\n",
    "Alice.initialize_qubits()"
   ]
  },
  {
   "cell_type": "markdown",
   "metadata": {},
   "source": [
    "She now transmits the qubits to bob via a quantum channel. For now lets assume the channel is error free and no evesdropping.  "
   ]
  },
  {
   "cell_type": "code",
   "execution_count": 4,
   "metadata": {},
   "outputs": [],
   "source": [
    "def channel_ideal(input):\n",
    "    return input\n",
    "\n",
    "Bob.q = channel_ideal(Alice.q)"
   ]
  },
  {
   "cell_type": "markdown",
   "metadata": {},
   "source": [
    "Now Bob decides on a equally random bit string $b_2[1], b_2[2], \\dots b_2[N]$. Bob now measures the received qubits to obtain , with basis determined by the $b_2[]$.  \n",
    "\n",
    "If $b_2[i]$ is 0, then measure $q[i]$ in the {$|0\\rangle,|1\\rangle$} basis.  \n",
    "If $b_2[i]$ is 1, then measure $q[i]$ in the {$|+\\rangle,|-\\rangle$} basis.  "
   ]
  },
  {
   "cell_type": "code",
   "execution_count": 5,
   "metadata": {},
   "outputs": [],
   "source": [
    "Bob.measure_q()"
   ]
  },
  {
   "cell_type": "markdown",
   "metadata": {},
   "source": [
    "After measurement, Alice and Bob publicly over classical channels exchange $b_1$ and $b_2$. They compare the strings and discard disagreeing positions (i.e)  if $b_1[i] \\neq b_2[i]$ then discard $a_{1,2}[i]$.  "
   ]
  },
  {
   "cell_type": "code",
   "execution_count": 6,
   "metadata": {},
   "outputs": [],
   "source": [
    "Alice.c = channel_ideal(Bob.b)\n",
    "Bob.c = channel_ideal(Alice.b)\n",
    "\n",
    "Alice.compare_basis()\n",
    "Bob.compare_basis()"
   ]
  },
  {
   "cell_type": "markdown",
   "metadata": {},
   "source": [
    "Now as a verification step, they select a fraction of their remaining key bits $a_{1,2}$ and communicate them publicly. If there is mismatch beyond a threshhold, then they discard the entire string and restart the process. \n",
    "If there is agreement, then they use the remaining bits as a shared secret string k."
   ]
  },
  {
   "cell_type": "code",
   "execution_count": 7,
   "metadata": {},
   "outputs": [
    {
     "name": "stdout",
     "output_type": "stream",
     "text": [
      "Accuracy = 100.0\n",
      "Alice  is good to go.\n",
      "Accuracy = 100.0\n",
      "Bob  is good to go.\n",
      "Huston, we are good to go. I repeat we are good to go\n",
      "Key:  [0, 1, 0, 0, 1, 1, 1, 0, 1, 1, 0, 1, 0, 1, 0, 1, 1, 0, 0, 0, 0]\n",
      "Key length:  21\n"
     ]
    }
   ],
   "source": [
    "def random_string_biased(length, frac):\n",
    "    rand = QuantumCircuit(1, 1)\n",
    "    state = [np.sqrt(1-frac) , np.sqrt(frac)]\n",
    "    rand.initialize(state, [0])\n",
    "    rand.measure([0], [0])\n",
    "    backend = Aer.get_backend('qasm_simulator')\n",
    "    job = execute(rand, backend, shots = length, memory = True)\n",
    "    result = job.result()\n",
    "    mem = result.get_memory()\n",
    "    a = []\n",
    "    for x in range(length):\n",
    "        a.append(int(mem[x],2))\n",
    "    return a\n",
    "\n",
    "frac = 1/2\n",
    "\n",
    "verify_locations = random_string_biased(len(Alice.a), frac)\n",
    "\n",
    "Alice.split_key(verify_locations)\n",
    "Bob.split_key(verify_locations)\n",
    "\n",
    "Alice.d = channel_ideal(Bob.ver)\n",
    "Bob.d = channel_ideal(Alice.ver)\n",
    "\n",
    "Alice.verify_key()\n",
    "Bob.verify_key()\n",
    "\n",
    "if Alice.flag == 1 and Bob.flag == 1:\n",
    "    print(\"Huston, we are good to go. I repeat we are good to go\")\n",
    "    print(\"Key: \", Alice.key)\n",
    "    print(\"Key length: \", len(Alice.key))\n",
    "else:\n",
    "    print(\"Mission abort, mission abort\")"
   ]
  },
  {
   "cell_type": "code",
   "execution_count": null,
   "metadata": {},
   "outputs": [],
   "source": []
  }
 ],
 "metadata": {
  "kernelspec": {
   "display_name": "Python 3",
   "language": "python",
   "name": "python3"
  },
  "language_info": {
   "codemirror_mode": {
    "name": "ipython",
    "version": 3
   },
   "file_extension": ".py",
   "mimetype": "text/x-python",
   "name": "python",
   "nbconvert_exporter": "python",
   "pygments_lexer": "ipython3",
   "version": "3.7.6"
  }
 },
 "nbformat": 4,
 "nbformat_minor": 4
}
